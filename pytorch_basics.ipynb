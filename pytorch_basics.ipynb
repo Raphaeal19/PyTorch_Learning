{
  "nbformat": 4,
  "nbformat_minor": 0,
  "metadata": {
    "colab": {
      "name": "pytorch_basics.ipynb",
      "provenance": [],
      "collapsed_sections": [],
      "authorship_tag": "ABX9TyN0TrSgkUAJoT6dXeTYYL5+",
      "include_colab_link": true
    },
    "kernelspec": {
      "name": "python3",
      "display_name": "Python 3"
    }
  },
  "cells": [
    {
      "cell_type": "markdown",
      "metadata": {
        "id": "view-in-github",
        "colab_type": "text"
      },
      "source": [
        "<a href=\"https://colab.research.google.com/github/Raphaeal19/PyTorch_Learning/blob/master/pytorch_basics.ipynb\" target=\"_parent\"><img src=\"https://colab.research.google.com/assets/colab-badge.svg\" alt=\"Open In Colab\"/></a>"
      ]
    },
    {
      "cell_type": "code",
      "metadata": {
        "id": "zVOYhep3Daal",
        "colab_type": "code",
        "colab": {}
      },
      "source": [
        "import torch"
      ],
      "execution_count": 0,
      "outputs": []
    },
    {
      "cell_type": "markdown",
      "metadata": {
        "id": "gEzxKS9lC5Wo",
        "colab_type": "text"
      },
      "source": [
        "# **Tensors**"
      ]
    },
    {
      "cell_type": "code",
      "metadata": {
        "id": "w50G0TGaDggr",
        "colab_type": "code",
        "colab": {
          "base_uri": "https://localhost:8080/",
          "height": 34
        },
        "outputId": "acb1823b-9bc2-4a6a-eca7-3281b6dad424"
      },
      "source": [
        "t1 = torch.tensor(4.)\n",
        "t1"
      ],
      "execution_count": 3,
      "outputs": [
        {
          "output_type": "execute_result",
          "data": {
            "text/plain": [
              "tensor(4.)"
            ]
          },
          "metadata": {
            "tags": []
          },
          "execution_count": 3
        }
      ]
    },
    {
      "cell_type": "code",
      "metadata": {
        "id": "Ah8bIUTQEDDM",
        "colab_type": "code",
        "colab": {
          "base_uri": "https://localhost:8080/",
          "height": 34
        },
        "outputId": "dcbba1b9-811d-448e-cbd3-f034e7fae3e2"
      },
      "source": [
        "t1.dtype"
      ],
      "execution_count": 4,
      "outputs": [
        {
          "output_type": "execute_result",
          "data": {
            "text/plain": [
              "torch.float32"
            ]
          },
          "metadata": {
            "tags": []
          },
          "execution_count": 4
        }
      ]
    },
    {
      "cell_type": "code",
      "metadata": {
        "id": "DYtTtoT0EFfl",
        "colab_type": "code",
        "colab": {
          "base_uri": "https://localhost:8080/",
          "height": 34
        },
        "outputId": "158e2936-e19f-406e-9e0e-b6c856d70a07"
      },
      "source": [
        "t2 = torch.tensor([1., 2, 3, 4])\n",
        "t2"
      ],
      "execution_count": 5,
      "outputs": [
        {
          "output_type": "execute_result",
          "data": {
            "text/plain": [
              "tensor([1., 2., 3., 4.])"
            ]
          },
          "metadata": {
            "tags": []
          },
          "execution_count": 5
        }
      ]
    },
    {
      "cell_type": "code",
      "metadata": {
        "id": "oJExbZHvELmV",
        "colab_type": "code",
        "colab": {
          "base_uri": "https://localhost:8080/",
          "height": 68
        },
        "outputId": "0f66d935-3645-409f-b609-f883645d8d53"
      },
      "source": [
        "t3 = torch.tensor([[5., 6], [7, 8], [9, 10.]])\n",
        "t3"
      ],
      "execution_count": 6,
      "outputs": [
        {
          "output_type": "execute_result",
          "data": {
            "text/plain": [
              "tensor([[ 5.,  6.],\n",
              "        [ 7.,  8.],\n",
              "        [ 9., 10.]])"
            ]
          },
          "metadata": {
            "tags": []
          },
          "execution_count": 6
        }
      ]
    },
    {
      "cell_type": "code",
      "metadata": {
        "id": "OdG7IKj-ETEF",
        "colab_type": "code",
        "colab": {
          "base_uri": "https://localhost:8080/",
          "height": 102
        },
        "outputId": "31525813-0529-4397-ac4e-7fd0ad27899a"
      },
      "source": [
        "t4 = torch.tensor([[\n",
        "                    [11, 12, 13], \n",
        "                    [14, 151, 16]\n",
        "                  ],\n",
        "                   [\n",
        "                    [12, 2453, 1231], \n",
        "                    [123, 2345, 234]\n",
        "                   ]])\n",
        "t4 "
      ],
      "execution_count": 10,
      "outputs": [
        {
          "output_type": "execute_result",
          "data": {
            "text/plain": [
              "tensor([[[  11,   12,   13],\n",
              "         [  14,  151,   16]],\n",
              "\n",
              "        [[  12, 2453, 1231],\n",
              "         [ 123, 2345,  234]]])"
            ]
          },
          "metadata": {
            "tags": []
          },
          "execution_count": 10
        }
      ]
    },
    {
      "cell_type": "code",
      "metadata": {
        "id": "tXE-6nz_FFBJ",
        "colab_type": "code",
        "colab": {
          "base_uri": "https://localhost:8080/",
          "height": 85
        },
        "outputId": "d76bf7c4-3265-4948-8ed4-72692668d3bf"
      },
      "source": [
        "print('t1.shape', t1.shape)\n",
        "print('t2.shape', t2.shape)\n",
        "print('t3.shape', t3.shape)\n",
        "print('t4.shape', t4.shape)"
      ],
      "execution_count": 12,
      "outputs": [
        {
          "output_type": "stream",
          "text": [
            "t1.shape torch.Size([])\n",
            "t2.shape torch.Size([4])\n",
            "t3.shape torch.Size([3, 2])\n",
            "t4.shape torch.Size([2, 2, 3])\n"
          ],
          "name": "stdout"
        }
      ]
    },
    {
      "cell_type": "markdown",
      "metadata": {
        "id": "z-7JAS3PF0lk",
        "colab_type": "text"
      },
      "source": [
        "# **Tensor operations and Gradients**"
      ]
    },
    {
      "cell_type": "code",
      "metadata": {
        "id": "lJFjQn4WFdcB",
        "colab_type": "code",
        "colab": {}
      },
      "source": [
        ""
      ],
      "execution_count": 0,
      "outputs": []
    }
  ]
}