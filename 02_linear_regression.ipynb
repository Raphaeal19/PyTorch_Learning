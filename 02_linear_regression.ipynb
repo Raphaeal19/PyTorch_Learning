{
  "nbformat": 4,
  "nbformat_minor": 0,
  "metadata": {
    "colab": {
      "name": "02-linear-regression.ipynb",
      "provenance": [],
      "collapsed_sections": [],
      "authorship_tag": "ABX9TyO6ZCgEP2Hd/H/aAE1jColo",
      "include_colab_link": true
    },
    "kernelspec": {
      "name": "python3",
      "display_name": "Python 3"
    }
  },
  "cells": [
    {
      "cell_type": "markdown",
      "metadata": {
        "id": "view-in-github",
        "colab_type": "text"
      },
      "source": [
        "<a href=\"https://colab.research.google.com/github/Raphaeal19/PyTorch_Learning/blob/master/02_linear_regression.ipynb\" target=\"_parent\"><img src=\"https://colab.research.google.com/assets/colab-badge.svg\" alt=\"Open In Colab\"/></a>"
      ]
    },
    {
      "cell_type": "markdown",
      "metadata": {
        "id": "1W78g4ZfK19v",
        "colab_type": "text"
      },
      "source": [
        "# **Model to predict crop yields for apples and oranges**"
      ]
    },
    {
      "cell_type": "code",
      "metadata": {
        "id": "4mM0LCiRKJmO",
        "colab_type": "code",
        "colab": {}
      },
      "source": [
        "import torch\n",
        "import numpy as np"
      ],
      "execution_count": 0,
      "outputs": []
    },
    {
      "cell_type": "code",
      "metadata": {
        "id": "YD8PZj7HLmDt",
        "colab_type": "code",
        "colab": {}
      },
      "source": [
        "inputs = np.array([[73, 67, 43], \n",
        "                   [91, 88, 64],\n",
        "                   [87, 134, 58], \n",
        "                   [102, 43, 37], \n",
        "                   [69, 96, 70]], dtype='float32')"
      ],
      "execution_count": 0,
      "outputs": []
    },
    {
      "cell_type": "code",
      "metadata": {
        "id": "bsP3JujzMKx9",
        "colab_type": "code",
        "colab": {}
      },
      "source": [
        "targets = np.array([[56, 70], \n",
        "                    [81, 101],\n",
        "                    [119, 133], \n",
        "                    [22, 37], \n",
        "                    [103, 119]], dtype='float32')"
      ],
      "execution_count": 0,
      "outputs": []
    },
    {
      "cell_type": "code",
      "metadata": {
        "id": "EGk6K0HeMYfM",
        "colab_type": "code",
        "colab": {
          "base_uri": "https://localhost:8080/",
          "height": 187
        },
        "outputId": "d69f2f63-2655-4ad1-e92e-f66fb93a43ab"
      },
      "source": [
        "inputs = torch.from_numpy(inputs)\n",
        "targets = torch.from_numpy(targets)\n",
        "print(inputs)\n",
        "print(targets)"
      ],
      "execution_count": 4,
      "outputs": [
        {
          "output_type": "stream",
          "text": [
            "tensor([[ 73.,  67.,  43.],\n",
            "        [ 91.,  88.,  64.],\n",
            "        [ 87., 134.,  58.],\n",
            "        [102.,  43.,  37.],\n",
            "        [ 69.,  96.,  70.]])\n",
            "tensor([[ 56.,  70.],\n",
            "        [ 81., 101.],\n",
            "        [119., 133.],\n",
            "        [ 22.,  37.],\n",
            "        [103., 119.]])\n"
          ],
          "name": "stdout"
        }
      ]
    },
    {
      "cell_type": "code",
      "metadata": {
        "id": "RJXuwDk1MoP7",
        "colab_type": "code",
        "colab": {
          "base_uri": "https://localhost:8080/",
          "height": 68
        },
        "outputId": "96054d3f-b67f-4c61-efa8-99b35a8fded1"
      },
      "source": [
        "w = torch.randn(2, 3, requires_grad=True)\n",
        "b = torch.randn(2, requires_grad=True)\n",
        "print(w)\n",
        "print(b)"
      ],
      "execution_count": 5,
      "outputs": [
        {
          "output_type": "stream",
          "text": [
            "tensor([[-0.6590,  0.6366, -0.2849],\n",
            "        [ 0.8423,  0.2977,  0.8546]], requires_grad=True)\n",
            "tensor([-1.8786, -0.7785], requires_grad=True)\n"
          ],
          "name": "stdout"
        }
      ]
    },
    {
      "cell_type": "code",
      "metadata": {
        "id": "4Ctu9Nv6NRlr",
        "colab_type": "code",
        "colab": {}
      },
      "source": [
        "def model(x):\n",
        "  return x @ w.t()+ b"
      ],
      "execution_count": 0,
      "outputs": []
    },
    {
      "cell_type": "code",
      "metadata": {
        "id": "2Ek1muTXNdjt",
        "colab_type": "code",
        "colab": {
          "base_uri": "https://localhost:8080/",
          "height": 102
        },
        "outputId": "53b3ba45-2d67-4d83-82cd-8a0327ca0bb4"
      },
      "source": [
        "preds = model(inputs)\n",
        "print(preds)"
      ],
      "execution_count": 7,
      "outputs": [
        {
          "output_type": "stream",
          "text": [
            "tensor([[-19.5889, 117.3986],\n",
            "        [-24.0663, 156.7565],\n",
            "        [  9.5616, 161.9522],\n",
            "        [-52.2697, 129.5543],\n",
            "        [ -6.1840, 145.7344]], grad_fn=<AddBackward0>)\n"
          ],
          "name": "stdout"
        }
      ]
    },
    {
      "cell_type": "code",
      "metadata": {
        "id": "YT8co5AFNi6Z",
        "colab_type": "code",
        "colab": {
          "base_uri": "https://localhost:8080/",
          "height": 102
        },
        "outputId": "3b7faee2-d09b-403a-f6b6-20db8f8f28a7"
      },
      "source": [
        "print(targets)"
      ],
      "execution_count": 8,
      "outputs": [
        {
          "output_type": "stream",
          "text": [
            "tensor([[ 56.,  70.],\n",
            "        [ 81., 101.],\n",
            "        [119., 133.],\n",
            "        [ 22.,  37.],\n",
            "        [103., 119.]])\n"
          ],
          "name": "stdout"
        }
      ]
    },
    {
      "cell_type": "markdown",
      "metadata": {
        "id": "hksRxSLPN06v",
        "colab_type": "text"
      },
      "source": [
        "# **Loss Functions**\n",
        "## **MSE**"
      ]
    },
    {
      "cell_type": "code",
      "metadata": {
        "id": "wVAm1zF4N3Fi",
        "colab_type": "code",
        "colab": {
          "base_uri": "https://localhost:8080/",
          "height": 34
        },
        "outputId": "b8456861-737c-45aa-fb83-03c3e63cc6df"
      },
      "source": [
        "diff = preds - targets\n",
        "diff_sqr = diff * diff\n",
        "torch.sum(diff_sqr) / diff.numel()"
      ],
      "execution_count": 9,
      "outputs": [
        {
          "output_type": "execute_result",
          "data": {
            "text/plain": [
              "tensor(6164.1167, grad_fn=<DivBackward0>)"
            ]
          },
          "metadata": {
            "tags": []
          },
          "execution_count": 9
        }
      ]
    },
    {
      "cell_type": "code",
      "metadata": {
        "id": "pzmcbL35OyDd",
        "colab_type": "code",
        "colab": {}
      },
      "source": [
        "def mse(t1, t2):\n",
        "  diff = t1 - t2\n",
        "  return torch.sum(diff * diff) / diff.numel()"
      ],
      "execution_count": 0,
      "outputs": []
    },
    {
      "cell_type": "code",
      "metadata": {
        "id": "nBw1db22PYGv",
        "colab_type": "code",
        "colab": {
          "base_uri": "https://localhost:8080/",
          "height": 34
        },
        "outputId": "8264e059-4f36-4797-b6a0-722a33ffe06e"
      },
      "source": [
        "loss = mse(preds, targets)\n",
        "print(loss)"
      ],
      "execution_count": 11,
      "outputs": [
        {
          "output_type": "stream",
          "text": [
            "tensor(6164.1167, grad_fn=<DivBackward0>)\n"
          ],
          "name": "stdout"
        }
      ]
    },
    {
      "cell_type": "markdown",
      "metadata": {
        "id": "vwygsB_UPkmy",
        "colab_type": "text"
      },
      "source": [
        "## **Compute Gradients**"
      ]
    },
    {
      "cell_type": "code",
      "metadata": {
        "id": "3ZnzGFZpPcr6",
        "colab_type": "code",
        "colab": {}
      },
      "source": [
        "loss.backward()"
      ],
      "execution_count": 0,
      "outputs": []
    },
    {
      "cell_type": "code",
      "metadata": {
        "id": "ZVeGTlq_Pv5h",
        "colab_type": "code",
        "colab": {
          "base_uri": "https://localhost:8080/",
          "height": 85
        },
        "outputId": "6415c665-9e86-4dfb-b24d-7cb211300ed3"
      },
      "source": [
        "print(w)\n",
        "print(w.grad)"
      ],
      "execution_count": 13,
      "outputs": [
        {
          "output_type": "stream",
          "text": [
            "tensor([[-0.6590,  0.6366, -0.2849],\n",
            "        [ 0.8423,  0.2977,  0.8546]], requires_grad=True)\n",
            "tensor([[-7941.8735, -8530.0605, -5342.5703],\n",
            "        [ 4467.5977,  3701.6416,  2516.3403]])\n"
          ],
          "name": "stdout"
        }
      ]
    },
    {
      "cell_type": "code",
      "metadata": {
        "id": "2JEgTLi0QuTI",
        "colab_type": "code",
        "colab": {
          "base_uri": "https://localhost:8080/",
          "height": 68
        },
        "outputId": "a0007a04-49b2-407a-f87d-8b0465d98c53"
      },
      "source": [
        "w.grad.zero_()\n",
        "b.grad.zero_()\n",
        "print(w.grad)\n",
        "print(b.grad)"
      ],
      "execution_count": 14,
      "outputs": [
        {
          "output_type": "stream",
          "text": [
            "tensor([[0., 0., 0.],\n",
            "        [0., 0., 0.]])\n",
            "tensor([0., 0.])\n"
          ],
          "name": "stdout"
        }
      ]
    },
    {
      "cell_type": "markdown",
      "metadata": {
        "id": "zthVicV9RE0v",
        "colab_type": "text"
      },
      "source": [
        "# **Adjust weights and biases using gradient descent**"
      ]
    },
    {
      "cell_type": "code",
      "metadata": {
        "id": "R8h9AzSlQ5xj",
        "colab_type": "code",
        "colab": {
          "base_uri": "https://localhost:8080/",
          "height": 102
        },
        "outputId": "f6671e10-4aec-46d4-944b-688d4f5bfb9b"
      },
      "source": [
        "preds = model(inputs)\n",
        "print(preds)"
      ],
      "execution_count": 15,
      "outputs": [
        {
          "output_type": "stream",
          "text": [
            "tensor([[-19.5889, 117.3986],\n",
            "        [-24.0663, 156.7565],\n",
            "        [  9.5616, 161.9522],\n",
            "        [-52.2697, 129.5543],\n",
            "        [ -6.1840, 145.7344]], grad_fn=<AddBackward0>)\n"
          ],
          "name": "stdout"
        }
      ]
    },
    {
      "cell_type": "code",
      "metadata": {
        "id": "2DoUY-4pRRaR",
        "colab_type": "code",
        "colab": {
          "base_uri": "https://localhost:8080/",
          "height": 34
        },
        "outputId": "65c58b7a-61ea-44d4-acee-221108973149"
      },
      "source": [
        "error = mse(preds, targets)\n",
        "print(error)"
      ],
      "execution_count": 16,
      "outputs": [
        {
          "output_type": "stream",
          "text": [
            "tensor(6164.1167, grad_fn=<DivBackward0>)\n"
          ],
          "name": "stdout"
        }
      ]
    },
    {
      "cell_type": "code",
      "metadata": {
        "id": "hAfqtLHdRYuE",
        "colab_type": "code",
        "colab": {
          "base_uri": "https://localhost:8080/",
          "height": 68
        },
        "outputId": "4ca09359-89a4-47d3-dbce-8bf0f2cf0d61"
      },
      "source": [
        "error.backward()\n",
        "print(w.grad)\n",
        "print(b.grad)"
      ],
      "execution_count": 17,
      "outputs": [
        {
          "output_type": "stream",
          "text": [
            "tensor([[-7941.8735, -8530.0605, -5342.5703],\n",
            "        [ 4467.5977,  3701.6416,  2516.3403]])\n",
            "tensor([-94.7095,  50.2792])\n"
          ],
          "name": "stdout"
        }
      ]
    },
    {
      "cell_type": "code",
      "metadata": {
        "id": "WRcHMpiKRezC",
        "colab_type": "code",
        "colab": {}
      },
      "source": [
        "with torch.no_grad():\n",
        "  w -= w.grad * 1e-5\n",
        "  b -= b.grad * 1e-5\n",
        "  w.grad.zero_()\n",
        "  b.grad.zero_()"
      ],
      "execution_count": 0,
      "outputs": []
    },
    {
      "cell_type": "code",
      "metadata": {
        "id": "PXQT9pn_R-rI",
        "colab_type": "code",
        "colab": {
          "base_uri": "https://localhost:8080/",
          "height": 68
        },
        "outputId": "92ba6e99-8538-43a1-d444-b24d1d869bff"
      },
      "source": [
        "print(w)\n",
        "print(b)"
      ],
      "execution_count": 19,
      "outputs": [
        {
          "output_type": "stream",
          "text": [
            "tensor([[-0.5796,  0.7219, -0.2315],\n",
            "        [ 0.7976,  0.2606,  0.8294]], requires_grad=True)\n",
            "tensor([-1.8776, -0.7791], requires_grad=True)\n"
          ],
          "name": "stdout"
        }
      ]
    },
    {
      "cell_type": "code",
      "metadata": {
        "id": "lpMAtjNGSKRC",
        "colab_type": "code",
        "colab": {
          "base_uri": "https://localhost:8080/",
          "height": 34
        },
        "outputId": "c9e79248-a01c-448a-feaa-d40e2d8b6a80"
      },
      "source": [
        "preds = model(inputs)\n",
        "loss = mse(preds, targets)\n",
        "print(loss)"
      ],
      "execution_count": 20,
      "outputs": [
        {
          "output_type": "stream",
          "text": [
            "tensor(4302.8110, grad_fn=<DivBackward0>)\n"
          ],
          "name": "stdout"
        }
      ]
    },
    {
      "cell_type": "markdown",
      "metadata": {
        "id": "pRuomG6kSZ0C",
        "colab_type": "text"
      },
      "source": [
        "## **Train for multiple epochs**"
      ]
    },
    {
      "cell_type": "code",
      "metadata": {
        "id": "FpA1_HFuSYnV",
        "colab_type": "code",
        "colab": {}
      },
      "source": [
        "for i in range(100):\n",
        "  preds = model(inputs)\n",
        "  loss = mse(preds, targets)\n",
        "  loss.backward()\n",
        "  with torch.no_grad():\n",
        "    w -= w.grad * 1e-5\n",
        "    b -= b.grad * 1e-5\n",
        "    w.grad.zero_()\n",
        "    b.grad.zero_()"
      ],
      "execution_count": 0,
      "outputs": []
    },
    {
      "cell_type": "code",
      "metadata": {
        "id": "5G2OuC3tS0PX",
        "colab_type": "code",
        "colab": {
          "base_uri": "https://localhost:8080/",
          "height": 34
        },
        "outputId": "96931fb2-2efe-4d90-e534-2698c7593706"
      },
      "source": [
        "preds = model(inputs)\n",
        "loss = mse(preds, targets)\n",
        "print(loss)"
      ],
      "execution_count": 22,
      "outputs": [
        {
          "output_type": "stream",
          "text": [
            "tensor(146.9109, grad_fn=<DivBackward0>)\n"
          ],
          "name": "stdout"
        }
      ]
    },
    {
      "cell_type": "code",
      "metadata": {
        "id": "4r9xPtuaTDrN",
        "colab_type": "code",
        "colab": {
          "base_uri": "https://localhost:8080/",
          "height": 102
        },
        "outputId": "ebe844c9-f19a-45a1-ccae-4dfd9f4bb438"
      },
      "source": [
        "preds\n"
      ],
      "execution_count": 23,
      "outputs": [
        {
          "output_type": "execute_result",
          "data": {
            "text/plain": [
              "tensor([[ 57.4464,  75.1904],\n",
              "        [ 77.7154, 103.7780],\n",
              "        [128.4500, 118.0402],\n",
              "        [ 24.0663,  66.1297],\n",
              "        [ 91.9954, 107.3998]], grad_fn=<AddBackward0>)"
            ]
          },
          "metadata": {
            "tags": []
          },
          "execution_count": 23
        }
      ]
    },
    {
      "cell_type": "code",
      "metadata": {
        "id": "6pVIRsstTFoz",
        "colab_type": "code",
        "colab": {
          "base_uri": "https://localhost:8080/",
          "height": 102
        },
        "outputId": "1e8551e9-68b8-4bc9-d410-83241b36a2c9"
      },
      "source": [
        "targets"
      ],
      "execution_count": 24,
      "outputs": [
        {
          "output_type": "execute_result",
          "data": {
            "text/plain": [
              "tensor([[ 56.,  70.],\n",
              "        [ 81., 101.],\n",
              "        [119., 133.],\n",
              "        [ 22.,  37.],\n",
              "        [103., 119.]])"
            ]
          },
          "metadata": {
            "tags": []
          },
          "execution_count": 24
        }
      ]
    },
    {
      "cell_type": "markdown",
      "metadata": {
        "id": "-bJzjOJPTauY",
        "colab_type": "text"
      },
      "source": [
        "# **Linear Regression using PyTorch built-ins**"
      ]
    },
    {
      "cell_type": "code",
      "metadata": {
        "id": "mVYJsXBmTaSl",
        "colab_type": "code",
        "colab": {}
      },
      "source": [
        "import torch.nn as nn"
      ],
      "execution_count": 0,
      "outputs": []
    },
    {
      "cell_type": "code",
      "metadata": {
        "id": "Pt2464OjTjfM",
        "colab_type": "code",
        "colab": {}
      },
      "source": [
        "# Input (temp, rainfall, humidity)\n",
        "inputs = np.array([[73, 67, 43], [91, 88, 64], [87, 134, 58], \n",
        "                   [102, 43, 37], [69, 96, 70], [73, 67, 43], \n",
        "                   [91, 88, 64], [87, 134, 58], [102, 43, 37], \n",
        "                   [69, 96, 70], [73, 67, 43], [91, 88, 64], \n",
        "                   [87, 134, 58], [102, 43, 37], [69, 96, 70]], \n",
        "                  dtype='float32')\n",
        "\n",
        "# Targets (apples, oranges)\n",
        "targets = np.array([[56, 70], [81, 101], [119, 133], \n",
        "                    [22, 37], [103, 119], [56, 70], \n",
        "                    [81, 101], [119, 133], [22, 37], \n",
        "                    [103, 119], [56, 70], [81, 101], \n",
        "                    [119, 133], [22, 37], [103, 119]], \n",
        "                   dtype='float32')\n",
        "\n",
        "inputs = torch.from_numpy(inputs)\n",
        "targets = torch.from_numpy(targets)"
      ],
      "execution_count": 0,
      "outputs": []
    },
    {
      "cell_type": "code",
      "metadata": {
        "id": "qjRtrLAOUErY",
        "colab_type": "code",
        "colab": {}
      },
      "source": [
        "from torch.utils.data import TensorDataset"
      ],
      "execution_count": 0,
      "outputs": []
    },
    {
      "cell_type": "code",
      "metadata": {
        "id": "LAAa1NxpUIX6",
        "colab_type": "code",
        "colab": {}
      },
      "source": [
        "train_ds = TensorDataset(inputs, targets)\n",
        "# train_ds[[1, 3, 5, 7]]"
      ],
      "execution_count": 0,
      "outputs": []
    },
    {
      "cell_type": "code",
      "metadata": {
        "id": "Cg1PgLxyUZUQ",
        "colab_type": "code",
        "colab": {}
      },
      "source": [
        "from torch.utils.data import DataLoader"
      ],
      "execution_count": 0,
      "outputs": []
    },
    {
      "cell_type": "code",
      "metadata": {
        "id": "zBZb3fysUd6H",
        "colab_type": "code",
        "colab": {}
      },
      "source": [
        "batch_size = 5\n",
        "train_dl = DataLoader(train_ds, batch_size, shuffle=True)"
      ],
      "execution_count": 0,
      "outputs": []
    },
    {
      "cell_type": "code",
      "metadata": {
        "id": "cygaOpIAUlqE",
        "colab_type": "code",
        "colab": {
          "base_uri": "https://localhost:8080/",
          "height": 204
        },
        "outputId": "bba7ce8d-ef88-49ba-a2c1-05cedfb741a2"
      },
      "source": [
        "for xb, yb in train_dl:\n",
        "  print('batch:')\n",
        "  print(xb)\n",
        "  print(yb)\n",
        "  break"
      ],
      "execution_count": 55,
      "outputs": [
        {
          "output_type": "stream",
          "text": [
            "batch:\n",
            "tensor([[ 91.,  88.,  64.],\n",
            "        [ 87., 134.,  58.],\n",
            "        [ 69.,  96.,  70.],\n",
            "        [102.,  43.,  37.],\n",
            "        [ 73.,  67.,  43.]])\n",
            "tensor([[ 81., 101.],\n",
            "        [119., 133.],\n",
            "        [103., 119.],\n",
            "        [ 22.,  37.],\n",
            "        [ 56.,  70.]])\n"
          ],
          "name": "stdout"
        }
      ]
    },
    {
      "cell_type": "markdown",
      "metadata": {
        "id": "vQ69KWztU3Lm",
        "colab_type": "text"
      },
      "source": [
        "## **nn.Linear**"
      ]
    },
    {
      "cell_type": "code",
      "metadata": {
        "id": "6VRW69b4U5Ek",
        "colab_type": "code",
        "colab": {
          "base_uri": "https://localhost:8080/",
          "height": 102
        },
        "outputId": "8fcedbf8-a8f7-42e7-e7a2-6f77a20510ec"
      },
      "source": [
        "model = nn.Linear(3, 2)\n",
        "print(model.weight)\n",
        "print(model.bias)"
      ],
      "execution_count": 56,
      "outputs": [
        {
          "output_type": "stream",
          "text": [
            "Parameter containing:\n",
            "tensor([[ 0.0178, -0.0691, -0.1401],\n",
            "        [ 0.5720, -0.5688,  0.1627]], requires_grad=True)\n",
            "Parameter containing:\n",
            "tensor([0.2184, 0.5548], requires_grad=True)\n"
          ],
          "name": "stdout"
        }
      ]
    },
    {
      "cell_type": "code",
      "metadata": {
        "id": "MOvfsuIFVEsG",
        "colab_type": "code",
        "colab": {
          "base_uri": "https://localhost:8080/",
          "height": 102
        },
        "outputId": "e9be7894-1355-498b-f24f-19e2768f0e6e"
      },
      "source": [
        "list(model.parameters())"
      ],
      "execution_count": 57,
      "outputs": [
        {
          "output_type": "execute_result",
          "data": {
            "text/plain": [
              "[Parameter containing:\n",
              " tensor([[ 0.0178, -0.0691, -0.1401],\n",
              "         [ 0.5720, -0.5688,  0.1627]], requires_grad=True),\n",
              " Parameter containing:\n",
              " tensor([0.2184, 0.5548], requires_grad=True)]"
            ]
          },
          "metadata": {
            "tags": []
          },
          "execution_count": 57
        }
      ]
    },
    {
      "cell_type": "code",
      "metadata": {
        "id": "sValb5ecVIF_",
        "colab_type": "code",
        "colab": {
          "base_uri": "https://localhost:8080/",
          "height": 272
        },
        "outputId": "2b5c3db8-1243-4829-cc47-ec4f5d09d73e"
      },
      "source": [
        "preds = model(inputs)\n",
        "preds"
      ],
      "execution_count": 58,
      "outputs": [
        {
          "output_type": "execute_result",
          "data": {
            "text/plain": [
              "tensor([[ -9.1359,  11.1970],\n",
              "        [-13.2086,  12.9646],\n",
              "        [-15.6156, -16.4641],\n",
              "        [ -6.1225,  40.4604],\n",
              "        [-14.9927,  -3.1939],\n",
              "        [ -9.1359,  11.1970],\n",
              "        [-13.2086,  12.9646],\n",
              "        [-15.6156, -16.4641],\n",
              "        [ -6.1225,  40.4604],\n",
              "        [-14.9927,  -3.1939],\n",
              "        [ -9.1359,  11.1970],\n",
              "        [-13.2086,  12.9646],\n",
              "        [-15.6156, -16.4641],\n",
              "        [ -6.1225,  40.4604],\n",
              "        [-14.9927,  -3.1939]], grad_fn=<AddmmBackward>)"
            ]
          },
          "metadata": {
            "tags": []
          },
          "execution_count": 58
        }
      ]
    },
    {
      "cell_type": "markdown",
      "metadata": {
        "id": "ZzYOjOWIVQpV",
        "colab_type": "text"
      },
      "source": [
        "## **Loss Function**"
      ]
    },
    {
      "cell_type": "code",
      "metadata": {
        "id": "DzYMFxZpVSsL",
        "colab_type": "code",
        "colab": {}
      },
      "source": [
        "import torch.nn.functional as F"
      ],
      "execution_count": 0,
      "outputs": []
    },
    {
      "cell_type": "code",
      "metadata": {
        "id": "4aZZ83UlVXEx",
        "colab_type": "code",
        "colab": {}
      },
      "source": [
        "loss_fn = F.mse_loss"
      ],
      "execution_count": 0,
      "outputs": []
    },
    {
      "cell_type": "code",
      "metadata": {
        "id": "_SVd7_zyVabm",
        "colab_type": "code",
        "colab": {
          "base_uri": "https://localhost:8080/",
          "height": 34
        },
        "outputId": "a6d5db2f-487b-45e8-80c5-b223d9150738"
      },
      "source": [
        "loss = loss_fn(model(inputs), targets)\n",
        "print(loss)"
      ],
      "execution_count": 61,
      "outputs": [
        {
          "output_type": "stream",
          "text": [
            "tensor(9444.3330, grad_fn=<MseLossBackward>)\n"
          ],
          "name": "stdout"
        }
      ]
    },
    {
      "cell_type": "markdown",
      "metadata": {
        "id": "i6_rAnxDV0y4",
        "colab_type": "text"
      },
      "source": [
        "## **Optimizer**"
      ]
    },
    {
      "cell_type": "code",
      "metadata": {
        "id": "Xx42XSugV2-S",
        "colab_type": "code",
        "colab": {}
      },
      "source": [
        "opt = torch.optim.SGD(model.parameters(), lr=1e-5)"
      ],
      "execution_count": 0,
      "outputs": []
    },
    {
      "cell_type": "markdown",
      "metadata": {
        "id": "E6Lg-S4fWC5_",
        "colab_type": "text"
      },
      "source": [
        "## **Train the model**"
      ]
    },
    {
      "cell_type": "code",
      "metadata": {
        "id": "-ShA4oUrWFbT",
        "colab_type": "code",
        "colab": {}
      },
      "source": [
        "def fit(num_epochs, model, loss_fn, opt):\n",
        "  for epoch in range(num_epochs):\n",
        "    for xb, yb in train_dl:\n",
        "      pred = model(xb)\n",
        "      loss = loss_fn(pred, yb)\n",
        "      loss.backward()\n",
        "      opt.step()\n",
        "      opt.zero_grad()\n",
        "    if(epoch+1) % 10 == 0:\n",
        "      print('Epoch [{}/{}], Loss: {:.4f}'.format(epoch+1, num_epochs, loss.item()))"
      ],
      "execution_count": 0,
      "outputs": []
    },
    {
      "cell_type": "code",
      "metadata": {
        "id": "HcrOVMLKW4pC",
        "colab_type": "code",
        "colab": {
          "base_uri": "https://localhost:8080/",
          "height": 187
        },
        "outputId": "f3d1c1f3-f504-40e6-a393-0c49be548040"
      },
      "source": [
        "fit(100, model, loss_fn, opt)"
      ],
      "execution_count": 68,
      "outputs": [
        {
          "output_type": "stream",
          "text": [
            "Epoch [10/100], Loss: 27.1766\n",
            "Epoch [20/100], Loss: 12.6616\n",
            "Epoch [30/100], Loss: 17.2396\n",
            "Epoch [40/100], Loss: 14.1136\n",
            "Epoch [50/100], Loss: 14.6663\n",
            "Epoch [60/100], Loss: 10.8448\n",
            "Epoch [70/100], Loss: 3.8346\n",
            "Epoch [80/100], Loss: 5.9174\n",
            "Epoch [90/100], Loss: 7.4679\n",
            "Epoch [100/100], Loss: 6.8317\n"
          ],
          "name": "stdout"
        }
      ]
    },
    {
      "cell_type": "code",
      "metadata": {
        "id": "Vq9E2koRZJiX",
        "colab_type": "code",
        "colab": {
          "base_uri": "https://localhost:8080/",
          "height": 272
        },
        "outputId": "35f8be2b-c8b4-4821-e996-1dbd4cdd33b4"
      },
      "source": [
        "preds = model(inputs)\n",
        "preds"
      ],
      "execution_count": 69,
      "outputs": [
        {
          "output_type": "execute_result",
          "data": {
            "text/plain": [
              "tensor([[ 57.6281,  70.8844],\n",
              "        [ 80.3618,  99.4026],\n",
              "        [122.2985, 135.1502],\n",
              "        [ 23.2213,  39.4719],\n",
              "        [ 97.4939, 115.5910],\n",
              "        [ 57.6281,  70.8844],\n",
              "        [ 80.3618,  99.4026],\n",
              "        [122.2985, 135.1502],\n",
              "        [ 23.2213,  39.4719],\n",
              "        [ 97.4939, 115.5910],\n",
              "        [ 57.6281,  70.8844],\n",
              "        [ 80.3618,  99.4026],\n",
              "        [122.2985, 135.1502],\n",
              "        [ 23.2213,  39.4719],\n",
              "        [ 97.4939, 115.5910]], grad_fn=<AddmmBackward>)"
            ]
          },
          "metadata": {
            "tags": []
          },
          "execution_count": 69
        }
      ]
    },
    {
      "cell_type": "code",
      "metadata": {
        "id": "BTTc40tzZNbD",
        "colab_type": "code",
        "colab": {
          "base_uri": "https://localhost:8080/",
          "height": 272
        },
        "outputId": "4e00833d-7d72-4614-f2d4-82dcdd3eb68e"
      },
      "source": [
        "targets"
      ],
      "execution_count": 70,
      "outputs": [
        {
          "output_type": "execute_result",
          "data": {
            "text/plain": [
              "tensor([[ 56.,  70.],\n",
              "        [ 81., 101.],\n",
              "        [119., 133.],\n",
              "        [ 22.,  37.],\n",
              "        [103., 119.],\n",
              "        [ 56.,  70.],\n",
              "        [ 81., 101.],\n",
              "        [119., 133.],\n",
              "        [ 22.,  37.],\n",
              "        [103., 119.],\n",
              "        [ 56.,  70.],\n",
              "        [ 81., 101.],\n",
              "        [119., 133.],\n",
              "        [ 22.,  37.],\n",
              "        [103., 119.]])"
            ]
          },
          "metadata": {
            "tags": []
          },
          "execution_count": 70
        }
      ]
    }
  ]
}